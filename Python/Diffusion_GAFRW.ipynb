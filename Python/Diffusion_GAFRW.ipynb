{
 "cells": [
  {
   "cell_type": "markdown",
   "metadata": {},
   "source": [
    "# Geometry-adapted fast random walk (GAFRW) algorithm\n",
    "## Yilin YE @ Avr. 2023"
   ]
  },
  {
   "cell_type": "code",
   "execution_count": 353,
   "metadata": {},
   "outputs": [],
   "source": [
    "##### Diffusion in Koch-like boundary @ YYE\n",
    "##### April 2023\n",
    "##### Generate Koch triangle with arbitraty angles\n",
    "##### Diffusion and contact PDF.\n",
    "\n",
    "import numpy as np\n",
    "import matplotlib.pyplot as plt\n",
    "import math, random\n",
    "from itertools import cycle\n",
    "import copy\n"
   ]
  },
  {
   "cell_type": "markdown",
   "metadata": {},
   "source": [
    "### [0]\n",
    "**Define functions to generate Koch-like polygon's coordinates**"
   ]
  },
  {
   "cell_type": "code",
   "execution_count": 129,
   "metadata": {},
   "outputs": [],
   "source": [
    "def koch_line(start, end, alpha, direction):\n",
    "    \"\"\"\n",
    "    Segments a line to Koch line, creating fractals.\n",
    "    :param tuple start:  (x, y) coordinates of the starting point\n",
    "    :param tuple end: (x, y) coordinates of the end point\n",
    "    :alpha: angle for Koch triangle (unit: rad)\n",
    "    :direction: 凹(+1)凸(-1), concave or convex?\n",
    "    ~returns tuple: tuple of three points between the segmentation\n",
    "    \"\"\"\n",
    "    \n",
    "    x1, y1 = start[0], start[1] # coordinates of the start\n",
    "    x2, y2 = end[0], end[1]     # coordinates of the end\n",
    "    \n",
    "    # the length of the line\n",
    "    deltax, deltay = x2 - x1, y2 - y1\n",
    "    l = np.sqrt((deltax)**2 + (deltay)**2)\n",
    "    coef = np.sqrt( 2 * (1 - np.cos(alpha)) ) + 2\n",
    "    segm = l / (coef)\n",
    "    #dist = segm * coef\n",
    "    beta = (np.pi - alpha)/2\n",
    "    if x1==x2:\n",
    "        if y1<y2:\n",
    "            theta = + np.pi / 2\n",
    "        if y1>y2:\n",
    "            theta = - np.pi / 2\n",
    "    else:\n",
    "        theta = np.arctan((deltay)/(deltax))\n",
    "    if x1>x2:\n",
    "        theta += np.pi\n",
    "    \n",
    "    changex, changey = (deltax)/(coef), (deltay)/(coef)\n",
    "    # second point: one third in each direction from the first point\n",
    "    b = (x1+changex, y1+changey)\n",
    "    # third point: rotation for multiple of 60 degrees\n",
    "    degree = theta + beta * direction\n",
    "    c = (b[0] + segm * np.cos(degree), b[1] + segm * np.sin(degree))\n",
    "    # fourth point: two thirds in each direction from the first point\n",
    "    d = (x2-changex, y2-changey)\n",
    "    \n",
    "    return [b, c, d]\n",
    "\n",
    "\n",
    "\n",
    "\n",
    "\n",
    "def Koch_generate(polygon, edge, angle, concave, generation):\n",
    "    \n",
    "    ## General initial coordinates\n",
    "    initial_shape = polygon # 3 = triangle, 4 = square, 5 = star, etc.\n",
    "    edge_length = edge # Initial edge length\n",
    "    angle_ini = 2.0 * np.pi / initial_shape\n",
    "    coordinate = []\n",
    "    #new_x, new_y = 0, 0\n",
    "    ## Move the polygon center as (0,0)\n",
    "    tta = np.pi * (1 - 2/polygon)\n",
    "    new_x, new_y = - edge_length/2, - edge_length/2 * np.tan(tta/2)\n",
    "\n",
    "    for i in range(initial_shape):\n",
    "        coordinate.append((new_x,new_y))\n",
    "        new_x += edge_length * np.cos(i * angle_ini)\n",
    "        new_y += edge_length * np.sin(i * angle_ini)\n",
    "    coordinate.append(coordinate[0]) # To form a circle.\n",
    "\n",
    "    \n",
    "    max_degree = generation # Define the recursion order\n",
    "    degre = angle # Define the fractal angle\n",
    "    direction = concave # Define 凹(concave +1) 凸(convex -1)\n",
    "    for i in range(max_degree): ## Recursion Order\n",
    "        num_edge = len(coordinate)\n",
    "        for j in range(num_edge-1): ## How many times to insert new points?\n",
    "            num_point = j * 4\n",
    "            coordinate = coordinate[:num_point+1] + koch_line(coordinate[num_point],coordinate[num_point+1],degre,direction) + coordinate[num_point+1:]\n",
    "\n",
    "    return coordinate"
   ]
  },
  {
   "cell_type": "markdown",
   "metadata": {},
   "source": [
    "### [0]\n",
    "**Define ``distance`` function to furnish the distance between a particle and a segment**"
   ]
  },
  {
   "cell_type": "code",
   "execution_count": 130,
   "metadata": {},
   "outputs": [],
   "source": [
    "def distance(start,end,particle):\n",
    "    x1, y1 = start[0], start[1] # coordinates of the start\n",
    "    x2, y2 = end[0], end[1] # coordinates of the end\n",
    "\n",
    "    deltax, deltay = x2 - x1, y2 - y1\n",
    "    ell = np.sqrt(deltax**2 + deltay**2)\n",
    "    eps = ell / 10**3\n",
    "    \n",
    "    if x1 == x2:\n",
    "        if y1 <= y2:\n",
    "            theta = + np.pi / 2\n",
    "        else:\n",
    "            theta = - np.pi / 2\n",
    "    else:\n",
    "        theta = np.arctan(deltay/deltax)\n",
    "    if x1 > x2:\n",
    "        theta += np.pi\n",
    "    st, ct = np.sin(theta), np.cos(theta)\n",
    "    \n",
    "    x0, y0 = particle[0], particle[1] # particle's coordiante\n",
    "    xdist, ydist = x0 - x1, y0 - y1\n",
    "    dxnew = + ct * xdist + st * ydist #xnew = x1 + ct * xdist + st * ydist\n",
    "    dynew = - st * xdist + ct * ydist     #ynew = y1 - st * xdist + ct * ydist\n",
    "    \n",
    "    if dynew < 0: # To avoid errors while g>2. 或出现某点距离某边负距离，未抵达边界便停止扩散。\n",
    "        dmin = Length\n",
    "        dehors = - 1\n",
    "    else:\n",
    "        if (dxnew >= 0) and (dxnew <= ell):\n",
    "            dehors = + 1\n",
    "            dmin = dynew\n",
    "            if (dmin < eps):\n",
    "                dmin = 0.0\n",
    "        else:\n",
    "            dehors = 0 \n",
    "            d1 = np.sqrt(xdist**2 + ydist**2)\n",
    "            d2 = np.sqrt((x0-x2)**2 + (y0-y2)**2)\n",
    "            if d1 <= d2:\n",
    "                dehors, dmin = 1, d1\n",
    "            else:\n",
    "                dehors, dmin = 2, d2\n",
    "        \n",
    "    return dehors, dmin"
   ]
  },
  {
   "cell_type": "markdown",
   "metadata": {},
   "source": [
    "### [0]\n",
    "**Define functions to update intervals ranges.**"
   ]
  },
  {
   "cell_type": "code",
   "execution_count": 131,
   "metadata": {},
   "outputs": [],
   "source": [
    "## Compute the distance between 2 points\n",
    "def span(x1,y1,x2,y2):\n",
    "    return np.sqrt((x1-x2)**2 + (y1-y2)**2)\n",
    "\n",
    "## Update the interval range @ given level.\n",
    "def vertex_update(valeur, arg, min1, min2, argmin1, argmin2):\n",
    "    if (min1 > min2):\n",
    "        minint = min1\n",
    "        min1 = min2\n",
    "        min2 = minint\n",
    "        argint = argmin1\n",
    "        argmin1 = argmin2\n",
    "        argmin2 = argint\n",
    "\n",
    "    if (valeur < min1):\n",
    "        min2 = min1\n",
    "        argmin2 = argmin1\n",
    "        min1 = valeur\n",
    "        argmin1 = arg\n",
    "    else:\n",
    "        if (valeur < min2):\n",
    "            min2 = valeur\n",
    "            argmin2 = arg\n",
    "\n",
    "    return min1, min2, argmin1, argmin2\n",
    "\n",
    "## Make sure the interval in right order.\n",
    "def petitavant(v1,v2):\n",
    "    if (v1>v2):\n",
    "        vint = v1\n",
    "        v1 = v2\n",
    "        v2 = vint\n",
    "    return v1,v2\n",
    "\n"
   ]
  },
  {
   "cell_type": "markdown",
   "metadata": {},
   "source": [
    "---\n",
    "---\n",
    "---\n",
    "Below for particule loop!"
   ]
  },
  {
   "cell_type": "markdown",
   "metadata": {},
   "source": [
    "### [0.0]\n",
    "**Define Parameters**"
   ]
  },
  {
   "cell_type": "code",
   "execution_count": 512,
   "metadata": {},
   "outputs": [
    {
     "name": "stdout",
     "output_type": "stream",
     "text": [
      "CPU times: user 786 µs, sys: 127 µs, total: 913 µs\n",
      "Wall time: 839 µs\n"
     ]
    }
   ],
   "source": [
    "%%time\n",
    "### Initialization\n",
    "polygon_shape = 3 \n",
    "Generation_max = 2\n",
    "num_particle = 1\n",
    "Length = 1.0e3\n",
    "alpha_angle_ratio = 3\n",
    "direction = - 1\n",
    "pi = 4.0*np.arctan(1.0)\n",
    "twopi=2.0*pi\n",
    "\n",
    "\n",
    "### Parameters\n",
    "num_points = polygon_shape * 4**Generation_max + 1\n",
    "position = np.zeros((num_particle,2))\n",
    "coord_x = np.zeros(num_points)\n",
    "coord_y = np.zeros(num_points)\n",
    "account = np.zeros(num_points-1)\n",
    "### Generate trajs\n",
    "traj = []\n",
    "for i in range(num_particle):\n",
    "    traj.append([])\n",
    "for i in range(num_particle):\n",
    "    traj[i].append((position[i,0], position[i,1]))\n",
    "\n",
    "\n",
    "angle_ini = twopi / polygon_shape\n",
    "tta = pi * (1.0 - 2.0/polygon_shape) \n",
    "    \n",
    "    \n",
    "coordinate = Koch_generate(3,Length,np.pi/3,-1,Generation_max)\n",
    "# Extract all coordinates\n",
    "for i in range(len(coordinate)):\n",
    "    coord_x[i] = coordinate[i][0]\n",
    "    coord_y[i] = coordinate[i][1]"
   ]
  },
  {
   "cell_type": "markdown",
   "metadata": {},
   "source": [
    "### [：0]\n",
    "**Show FIGURE!**"
   ]
  },
  {
   "cell_type": "code",
   "execution_count": 513,
   "metadata": {},
   "outputs": [
    {
     "data": {
      "text/plain": [
       "<function matplotlib.pyplot.show(*args, **kw)>"
      ]
     },
     "execution_count": 513,
     "metadata": {},
     "output_type": "execute_result"
    },
    {
     "data": {
      "image/png": "[encoded data removed]",
      "text/plain": [
       "<Figure size 720x720 with 1 Axes>"
      ]
     },
     "metadata": {
      "needs_background": "light"
     },
     "output_type": "display_data"
    }
   ],
   "source": [
    "# fill the polygons\n",
    "plt.figure(figsize=(10,10))\n",
    "plt.fill(coord_x, coord_y, edgecolor='black', lw=0.5, alpha = 0.3)\n",
    "plt.scatter(position[:,0],position[:,1],color='red')\n",
    "plt.axis('off')\n",
    "plt.axis('scaled')\n",
    "plt.show"
   ]
  },
  {
   "cell_type": "markdown",
   "metadata": {},
   "source": [
    "### [1.0]\n",
    "**Initialize interval range records**\n",
    "\n",
    "In ``rec[a,b]``, `a` refers to **Generation level**, `b` refers to **Start/End Point**.\n",
    "\n",
    "``rec_index`` records coordinates indices; ``rec_dist`` records distance between the *i*-the particle and the corresponding coordinate point."
   ]
  },
  {
   "cell_type": "code",
   "execution_count": 514,
   "metadata": {},
   "outputs": [],
   "source": [
    "## Add for i in range(num_particle):\n",
    "i = 0\n",
    "rec_dist = np.zeros((Generation_max+2,2))\n",
    "## Note rec_index should be integer.\n",
    "rec_index = [[0,0] for i in range(Generation_max+2)]\n",
    "## Initialize all points in each level as max range.\n",
    "for j in range(Generation_max+2):\n",
    "    rec_index[j][1] = num_points - 1\n",
    "    \n",
    "#rec_dist[:][:] = Length\n",
    "## 放弃严格逐个求距离，扩散过程中可能同时远离两点仅靠近一点，若按上述标准：则永远保持初始距离不变，影响后续判断\n",
    "\n",
    "## 以下仍严格计算距离，注意每次扩散移动后更新新距离。"
   ]
  },
  {
   "cell_type": "code",
   "execution_count": 515,
   "metadata": {},
   "outputs": [
    {
     "name": "stdout",
     "output_type": "stream",
     "text": [
      "[[0, 48], [0, 48], [0, 48], [0, 48]]\n",
      "[[577.35026919 577.35026919]\n",
      " [577.35026919 577.35026919]\n",
      " [577.35026919 577.35026919]\n",
      " [577.35026919 577.35026919]]\n"
     ]
    }
   ],
   "source": [
    "for j in range(Generation_max+2):\n",
    "    rec_dist[j,0] = span(coord_x[rec_index[j][0]],coord_y[rec_index[j][0]],position[i,0],position[i,1])\n",
    "    rec_dist[j,1] = span(coord_x[rec_index[j][1]],coord_y[rec_index[j][1]],position[i,0],position[i,1])    \n",
    "    \n",
    "print(rec_index)\n",
    "print(rec_dist)"
   ]
  },
  {
   "cell_type": "markdown",
   "metadata": {},
   "source": [
    "1. Determine interval range by coordinate index; ``rec_index[g_last]``\n",
    "2. Find 2 nearest points in this range @ next level; ``rec_index[g_act]``\n",
    "3. Determine the diffusion radius in new interval; ``rec_index[g_act]``\n",
    "4. Determine if cross the boundary; ``rec_index[g_test]`` = min @ ``rec_index[g_test-1]`` for all ``g_test <= g_act``"
   ]
  },
  {
   "cell_type": "markdown",
   "metadata": {},
   "source": [
    "### [1.1]\n",
    "**Initialize `g_last` & `g_act`** (for start-up)"
   ]
  },
  {
   "cell_type": "code",
   "execution_count": 516,
   "metadata": {},
   "outputs": [],
   "source": [
    "### At first, direct diffusion needed. w/o finding 2 nearest points\n",
    "g_act = 1\n",
    "g_last = 0\n",
    "\n",
    "int_gap = 4**(Generation_max - g_act + 1)\n",
    "\n",
    "### Then goto[3]"
   ]
  },
  {
   "cell_type": "markdown",
   "metadata": {},
   "source": [
    "### [1.2]\n",
    "**Initialize `g_last` & `g_act`** (not for start-up)"
   ]
  },
  {
   "cell_type": "code",
   "execution_count": 807,
   "metadata": {},
   "outputs": [
    {
     "name": "stdout",
     "output_type": "stream",
     "text": [
      "[[0, 48], [32, 48], [32, 36], [34, 35]]\n",
      "[[817.30256909 817.30256909]\n",
      " [195.93429294 817.30256909]\n",
      " [195.93429294 161.34571275]\n",
      " [ 37.21706625  73.89418362]]\n"
     ]
    }
   ],
   "source": [
    "print(rec_index)\n",
    "print(rec_dist)"
   ]
  },
  {
   "cell_type": "code",
   "execution_count": 808,
   "metadata": {},
   "outputs": [
    {
     "name": "stdout",
     "output_type": "stream",
     "text": [
      "3 2 1\n"
     ]
    }
   ],
   "source": [
    "## If all check valid?\n",
    "#g_last = g_act\n",
    "#g_act += 1\n",
    "if g_last < Generation_max+1:\n",
    "    g_last += 1\n",
    "else:\n",
    "    g_last = Generation_max+1\n",
    "\n",
    "\n",
    "int_gap = 4**(Generation_max - g_last + 1)\n",
    "print(g_last,g_act,int_gap)"
   ]
  },
  {
   "cell_type": "code",
   "execution_count": 809,
   "metadata": {},
   "outputs": [
    {
     "data": {
      "text/plain": [
       "(2, 3)"
      ]
     },
     "execution_count": 809,
     "metadata": {},
     "output_type": "execute_result"
    }
   ],
   "source": [
    "Generation_max, g_last"
   ]
  },
  {
   "cell_type": "markdown",
   "metadata": {},
   "source": [
    "### [2]\n",
    "**Find 2 nearest points** (not for start-up)"
   ]
  },
  {
   "cell_type": "code",
   "execution_count": 810,
   "metadata": {},
   "outputs": [
    {
     "name": "stdout",
     "output_type": "stream",
     "text": [
      "g_last= 3 97.87553192145707 33\n",
      "g_last= 3 37.21706624636118 34\n",
      "g_last= 3 73.89418362295689 35\n",
      "[[0, 48], [32, 48], [32, 36], [34, 35]]\n",
      "[[817.30256909 817.30256909]\n",
      " [195.93429294 817.30256909]\n",
      " [195.93429294 161.34571275]\n",
      " [ 37.21706625  73.89418362]]\n"
     ]
    }
   ],
   "source": [
    "## Update rec_dist\n",
    "#rec_dist[g_last][0] = span(coord_x[rec_index[g_last][0]],coord_y[rec_index[g_last][0]],position[i,0],position[i,1])\n",
    "#rec_dist[g_last][1] = span(coord_x[rec_index[g_last][1]],coord_y[rec_index[g_last][1]],position[i,0],position[i,1])\n",
    "\n",
    "## 搜索前直接固定要搜索的级别边界条件等于上一级，然后只搜索边界内新生成点。\n",
    "## 由此避免初期任意赋值长度，导致循环过程中坐标序号与长度不匹配！\n",
    "## 如rec_dist=[1000,1000],rec_index[0,48]，新加入点36距离100，更新后变成\n",
    "## rec_dist = [100,1000],rec_index[0,36]；然而36对应100而非1000。\n",
    "rec_dist[g_last] = copy.deepcopy( rec_dist[g_last - 1] )\n",
    "rec_index[g_last]= copy.deepcopy( rec_index[g_last- 1] )\n",
    "## 如此，搜索时要避开上一级端点，以免重复考虑仅有一点重复纳入记录。\n",
    "### 放弃直接操作rec数组，直接搜索最小两点后再赋值。\n",
    "\n",
    "\n",
    "l1, l2 = rec_dist[g_last - 1][0], rec_dist[g_last - 1][1] #Length, Length, 0, 0\n",
    "k1, k2 =rec_index[g_last - 1][0],rec_index[g_last - 1][1]\n",
    "if l1>l2:\n",
    "    lint = l1\n",
    "    l1 = l2\n",
    "    l2 = lint\n",
    "    kint = k1\n",
    "    k1 = k2\n",
    "    k2 = kint\n",
    "\n",
    "if g_last == 1:\n",
    "    supvl = rec_index[g_last-1][1]\n",
    "else:\n",
    "    supvl = rec_index[g_last-1][1] #+ 1\n",
    "\n",
    "\n",
    "if g_last==1:\n",
    "    #rec_dist[g_last][1] = Length\n",
    "    for j in range(rec_index[g_last-1][0] + int_gap, supvl, int_gap): ## 注意首轮不考虑最后一点！\n",
    "        u = span(coord_x[j],coord_y[j],position[i,0],position[i,1])\n",
    "        print(\"g_last=\",g_last,u,j)\n",
    "        #rec_dist[g_last][0], rec_dist[g_last][1], rec_index[g_last][0], rec_index[g_last][1] = vertex_update(u,j,rec_dist[g_last][0], rec_dist[g_last][1], rec_index[g_last][0], rec_index[g_last][1])\n",
    "        ## Make sure small value in front of larger one.\n",
    "        #rec_index[g_last][0], rec_index[g_last][1] = petitavant(rec_index[g_last][0], rec_index[g_last][1])\n",
    "        \n",
    "        \n",
    "        ## vertex_update总有问题，将计算所得 插入 已知结果，必然只能得到最小值重复两次\n",
    "        ## 应考虑直接循环找到最小两点，之后再给rec_index/dist赋值\n",
    "        if (u<l1)and(u<l2):\n",
    "            l2, k2 = l1, k1\n",
    "            l1, k1 = u, j\n",
    "            print(\"YES!!\")\n",
    "        else:\n",
    "            if (u<l2):\n",
    "                l2, k2 = u, j\n",
    "                print(\"YES\")\n",
    "        print(l1, l2, k1, k2)\n",
    "    rec_index[g_last][0], rec_index[g_last][1] = petitavant(k1, k2)\n",
    "        \n",
    "    print(rec_index)\n",
    "    print(rec_dist)\n",
    "    \n",
    "    ## To avoid the confusion for last segment selected. \n",
    "    ## 1/n 概率，首轮扩散靠近最后一条边。由于首位相接，这时g=1对应最近两点仍为首尾；故增补以下判断\n",
    "    if (np.abs(rec_index[g_last][1] - rec_index[g_last][0]) > int_gap):\n",
    "        rec_index[g_last][0] = rec_index[g_last - 1][1] - int_gap\n",
    "        rec_index[g_last][1] = rec_index[g_last - 1][1]\n",
    "else:\n",
    "    for j in range(rec_index[g_last-1][0] + int_gap, supvl, int_gap):\n",
    "        u = span(coord_x[j],coord_y[j],position[i,0],position[i,1])\n",
    "        print(\"g_last=\",g_last,u,j)\n",
    "        #rec_dist[g_last][0], rec_dist[g_last][1], rec_index[g_last][0], rec_index[g_last][1] = vertex_update(u,j,rec_dist[g_last][0], rec_dist[g_last][1], rec_index[g_last][0], rec_index[g_last][1])\n",
    "        #rec_index[g_last][0], rec_index[g_last][1] = petitavant(rec_index[g_last][0], rec_index[g_last][1])\n",
    "\n",
    "        if (u<l1)and(u<l2):\n",
    "            l2, k2 = l1, k1\n",
    "            l1, k1 = u, j\n",
    "        else:\n",
    "            if (u<l2):\n",
    "                l2, k2 = u, j\n",
    "    rec_index[g_last][0], rec_index[g_last][1] = petitavant(k1, k2)\n",
    "    \n",
    "for j in range(Generation_max+2):\n",
    "    rec_dist[j,0] = span(coord_x[rec_index[j][0]],coord_y[rec_index[j][0]],position[i,0],position[i,1])\n",
    "    rec_dist[j,1] = span(coord_x[rec_index[j][1]],coord_y[rec_index[j][1]],position[i,0],position[i,1])    \n",
    "\n",
    "\n",
    "    \n",
    "print(rec_index)\n",
    "print(rec_dist)"
   ]
  },
  {
   "cell_type": "code",
   "execution_count": 811,
   "metadata": {},
   "outputs": [
    {
     "data": {
      "text/plain": [
       "(195.93429293823078, 161.3457127487116)"
      ]
     },
     "execution_count": 811,
     "metadata": {},
     "output_type": "execute_result"
    }
   ],
   "source": [
    "rec_dist[g_last - 1][0], rec_dist[g_last - 1][1]"
   ]
  },
  {
   "cell_type": "code",
   "execution_count": null,
   "metadata": {},
   "outputs": [],
   "source": []
  },
  {
   "cell_type": "code",
   "execution_count": null,
   "metadata": {},
   "outputs": [],
   "source": []
  },
  {
   "cell_type": "code",
   "execution_count": 812,
   "metadata": {},
   "outputs": [
    {
     "name": "stdout",
     "output_type": "stream",
     "text": [
      "[[0, 48], [32, 48], [32, 36], [34, 35]]\n",
      "[[817.30256909 817.30256909]\n",
      " [195.93429294 817.30256909]\n",
      " [195.93429294 161.34571275]\n",
      " [ 37.21706625  73.89418362]]\n"
     ]
    }
   ],
   "source": [
    "#rec_dist[g_last] = rec_dist[g_last - 1]\n",
    "#rec_index[g_last]= rec_index[g_last- 1]\n",
    "\n",
    "\n",
    "print(rec_index)\n",
    "print(rec_dist)"
   ]
  },
  {
   "cell_type": "markdown",
   "metadata": {},
   "source": [
    "### [3] \n",
    "**Determine diffusion radius** (able for start-up)"
   ]
  },
  {
   "cell_type": "code",
   "execution_count": 813,
   "metadata": {},
   "outputs": [
    {
     "name": "stdout",
     "output_type": "stream",
     "text": [
      "g_last 3 34 0.0\n"
     ]
    }
   ],
   "source": [
    "radius_min = Length\n",
    "for j in range(rec_index[g_last][0], rec_index[g_last][1], int_gap):\n",
    "    l = j + int_gap\n",
    "    case, radius = distance([coord_x[j],coord_y[j]], [coord_x[l],coord_y[l]], position[i])\n",
    "    if case!=-1:\n",
    "        if radius_min>radius:\n",
    "            radius_min = radius\n",
    "            k = j\n",
    "print(\"g_last\",g_last,k, radius_min)"
   ]
  },
  {
   "cell_type": "code",
   "execution_count": 814,
   "metadata": {},
   "outputs": [
    {
     "name": "stdout",
     "output_type": "stream",
     "text": [
      "[[0, 48], [32, 48], [32, 36], [34, 35]]\n",
      "[[817.30256909 817.30256909]\n",
      " [195.93429294 817.30256909]\n",
      " [195.93429294 161.34571275]\n",
      " [ 37.21706625  73.89418362]]\n"
     ]
    }
   ],
   "source": [
    "print(rec_index)\n",
    "print(rec_dist)"
   ]
  },
  {
   "cell_type": "markdown",
   "metadata": {},
   "source": [
    "### [4]\n",
    "**Diffusion** with given `radius_min`."
   ]
  },
  {
   "cell_type": "code",
   "execution_count": 815,
   "metadata": {},
   "outputs": [
    {
     "name": "stdout",
     "output_type": "stream",
     "text": [
      "[-147.98640489  448.93581861]\n"
     ]
    }
   ],
   "source": [
    "if (radius_min>0):\n",
    "    random_angle = random.uniform(0,2*np.pi)\n",
    "    move_x = radius_min * np.cos(random_angle)\n",
    "    move_y = radius_min * np.sin(random_angle)\n",
    "    position[i,0] += move_x\n",
    "    position[i,1] += move_y\n",
    "    traj[i].append((position[i,0], position[i,1]))\n",
    "else:\n",
    "    if (g_last == Generation_max+1):\n",
    "        account[k] += 1\n",
    "        #break # Jump out of while loop\n",
    "    else:\n",
    "        g_last += 1\n",
    "        #g_last = g_act\n",
    "        #g_act += 1\n",
    "        \n",
    "print(position[i])\n",
    "\n",
    "## Update rec_dist\n",
    "#rec_dist[g_last][0] = span(coord_x[rec_index[g_last][0]],coord_y[rec_index[g_last][0]],position[i,0],position[i,1])\n",
    "#rec_dist[g_last][1] = span(coord_x[rec_index[g_last][1]],coord_y[rec_index[g_last][1]],position[i,0],position[i,1])\n",
    "for j in range(Generation_max+2):\n",
    "    rec_dist[j,0] = span(coord_x[rec_index[j][0]],coord_y[rec_index[j][0]],position[i,0],position[i,1])\n",
    "    rec_dist[j,1] = span(coord_x[rec_index[j][1]],coord_y[rec_index[j][1]],position[i,0],position[i,1])    \n"
   ]
  },
  {
   "cell_type": "code",
   "execution_count": 816,
   "metadata": {},
   "outputs": [
    {
     "data": {
      "text/plain": [
       "[[(0.0, 0.0),\n",
       "  (44.6204359360299, 285.20580293923194),\n",
       "  (0.7204099619478015, 383.25655558144854),\n",
       "  (-74.0998165505653, 444.07860413369235),\n",
       "  (-71.87106978246376, 445.1281584845067),\n",
       "  (-47.329446861812826, 418.79381790945246),\n",
       "  (-102.81436816668736, 448.3623247661479),\n",
       "  (-122.01437047580364, 421.8148672831245),\n",
       "  (-116.07193508518682, 428.5938701377293),\n",
       "  (-128.62319403080295, 440.861350125618),\n",
       "  (-135.6397265880455, 451.58441911497687),\n",
       "  (-135.80575444785194, 463.6829956795914),\n",
       "  (-146.95004881336803, 450.265244630978),\n",
       "  (-147.79616147132973, 448.85441003428423),\n",
       "  (-147.9864048912605, 448.93581861429436)]]"
      ]
     },
     "execution_count": 816,
     "metadata": {},
     "output_type": "execute_result"
    }
   ],
   "source": [
    "traj"
   ]
  },
  {
   "cell_type": "code",
   "execution_count": 817,
   "metadata": {},
   "outputs": [
    {
     "name": "stdout",
     "output_type": "stream",
     "text": [
      "[[0, 48], [32, 48], [32, 36], [34, 35]]\n",
      "[[817.30256909 817.30256909]\n",
      " [195.93429294 817.30256909]\n",
      " [195.93429294 161.34571275]\n",
      " [ 37.21706625  73.89418362]]\n"
     ]
    }
   ],
   "source": [
    "print(rec_index)\n",
    "print(rec_dist)"
   ]
  },
  {
   "cell_type": "markdown",
   "metadata": {},
   "source": [
    "### [：0]\n",
    "**Show FIGURE!**"
   ]
  },
  {
   "cell_type": "code",
   "execution_count": 818,
   "metadata": {},
   "outputs": [
    {
     "data": {
      "text/plain": [
       "<function matplotlib.pyplot.show(*args, **kw)>"
      ]
     },
     "execution_count": 818,
     "metadata": {},
     "output_type": "execute_result"
    },
    {
     "data": {
      "image/png": "[encoded data removed]",
      "text/plain": [
       "<Figure size 720x720 with 1 Axes>"
      ]
     },
     "metadata": {
      "needs_background": "light"
     },
     "output_type": "display_data"
    }
   ],
   "source": [
    "# fill the polygons\n",
    "plt.figure(figsize=(10,10))\n",
    "plt.fill(coord_x, coord_y, edgecolor='black', lw=0.5, alpha = 0.3)\n",
    "plt.scatter(position[:,0],position[:,1],color='red')\n",
    "cycol = cycle('bgrcmk')\n",
    "for j in range(len(traj[i])-1):\n",
    "    random_color = next(cycol)\n",
    "    plt.plot([traj[i][j][0],traj[i][j+1][0]],[traj[i][j][1],traj[i][j+1][1]],'--',c=random_color)\n",
    "plt.axis('off')\n",
    "plt.axis('scaled')\n",
    "plt.show"
   ]
  },
  {
   "cell_type": "code",
   "execution_count": 801,
   "metadata": {},
   "outputs": [
    {
     "name": "stdout",
     "output_type": "stream",
     "text": [
      "1\n",
      "3\n"
     ]
    }
   ],
   "source": [
    "for j in range(1,2):\n",
    "    print(j)\n",
    "print(g_last)"
   ]
  },
  {
   "cell_type": "code",
   "execution_count": 802,
   "metadata": {},
   "outputs": [
    {
     "name": "stdout",
     "output_type": "stream",
     "text": [
      "[[0, 48], [32, 48], [32, 36], [34, 35]]\n",
      "[[817.30256909 817.30256909]\n",
      " [195.93429294 817.30256909]\n",
      " [195.93429294 161.34571275]\n",
      " [ 37.21706625  73.89418362]]\n"
     ]
    }
   ],
   "source": [
    "for j in range(Generation_max+2):\n",
    "    rec_dist[j,0] = span(coord_x[rec_index[j][0]],coord_y[rec_index[j][0]],position[i,0],position[i,1])\n",
    "    rec_dist[j,1] = span(coord_x[rec_index[j][1]],coord_y[rec_index[j][1]],position[i,0],position[i,1])    \n",
    "    \n",
    "print(rec_index)\n",
    "print(rec_dist)"
   ]
  },
  {
   "cell_type": "markdown",
   "metadata": {},
   "source": [
    "### [5]\n",
    "**Determine if go out** (not for start up)"
   ]
  },
  {
   "cell_type": "code",
   "execution_count": null,
   "metadata": {},
   "outputs": [],
   "source": []
  },
  {
   "cell_type": "code",
   "execution_count": 803,
   "metadata": {},
   "outputs": [
    {
     "name": "stdout",
     "output_type": "stream",
     "text": [
      "g_test= 1 981.8127617921598 16\n",
      "g_test= 1 195.93429293823078 32\n",
      "32 0\n",
      "g_test= 2 161.3457127487116 36\n",
      "g_test= 2 386.77778889663705 40\n",
      "g_test= 2 485.6921382087602 44\n",
      "36 32\n",
      "g_test= 3 97.87553192145707 33\n",
      "g_test= 3 37.21706624636118 34\n",
      "g_test= 3 73.89418362295689 35\n",
      "34 35\n"
     ]
    }
   ],
   "source": [
    "for g_test in range(1,g_last+1):\n",
    "    \n",
    "    if g_test == 1:\n",
    "        supvl = rec_index[g_test-1][1]\n",
    "    else:\n",
    "        supvl = rec_index[g_test-1][1] #+ 1\n",
    "        \n",
    "        \n",
    "    rec_old1, rec_old2 = rec_index[g_test][0], rec_index[g_test][1]\n",
    "    int_gap = 4**(Generation_max - g_test + 1)\n",
    "\n",
    "    #l1, l2, k1, k2 = Length, Length, 0, 0\n",
    "    l1, l2 = rec_dist[g_test - 1][0], rec_dist[g_test - 1][1]#Length, Length, 0, 0\n",
    "    k1, k2 =rec_index[g_test - 1][0],rec_index[g_test - 1][1]\n",
    "    if l1>l2:\n",
    "        lint = l1\n",
    "        l1 = l2\n",
    "        l2 = lint\n",
    "        kint = k1\n",
    "        k1 = k2\n",
    "        k2 = kint\n",
    "\n",
    "\n",
    "    for j in range(rec_index[g_test-1][0] + int_gap, supvl, int_gap):\n",
    "        u = span(coord_x[j],coord_y[j],position[i,0],position[i,1])\n",
    "        print(\"g_test=\",g_test,u,j)\n",
    "        ## vertex_update总有问题，将计算所得 插入 已知结果，必然只能得到最小值重复两次\n",
    "        ## 应考虑直接循环找到最小两点，之后再给rec_index/dist赋值\n",
    "        if (u<l1)and(u<l2):\n",
    "            l2, k2 = l1, k1\n",
    "            l1, k1 = u, j\n",
    "        else:\n",
    "            if (u<l2):\n",
    "                l2, k2 = u, j\n",
    "    ## 目前最小两点为（k1,k2），距离为（l1，l2）\n",
    "    rec_index[g_test][0], rec_index[g_test][1] = petitavant(k1, k2)\n",
    "    print(k1,k2)\n",
    "        \n",
    "        \n",
    "        \n",
    "    if g_test == 1: ## 避免零阶首尾部分报错。\n",
    "        if (np.abs(rec_index[g_test][1] - rec_index[g_test][0]) > int_gap):\n",
    "            #rec_index[g_test][0] = rec_index[g_test][1]\n",
    "            #rec_index[g_test][1] += int_gap\n",
    "            #u = rec_dist[g_test][0]\n",
    "            #rec_dist[g_test][0] = rec_dist[g_test][1]\n",
    "            #rec_dist[g_test][1] = u\n",
    "            rec_index[g_test][0] = rec_index[g_test - 1][1] - int_gap\n",
    "            rec_index[g_test][1] = rec_index[g_test - 1][1]\n",
    "    ## 要求最小两点仍处于原边界限制内，否则回到 g_test 再次计算\n",
    "    if (rec_old1>rec_index[g_test][0])or(rec_old2<rec_index[g_test][1]):\n",
    "        #rec_index[g_test][0] = rec_old1\n",
    "        #rec_index[g_test][1] = rec_old2\n",
    "        g_last = g_test\n",
    "        #g_act = g_last + 1\n",
    "        print(\"Break @ g_last = \",g_last)\n",
    "        break\n",
    "    #else turn to next loop ``g_test += 1``"
   ]
  },
  {
   "cell_type": "code",
   "execution_count": 804,
   "metadata": {},
   "outputs": [
    {
     "name": "stdout",
     "output_type": "stream",
     "text": [
      "[[0, 48], [32, 48], [32, 36], [34, 35]]\n",
      "[[817.30256909 817.30256909]\n",
      " [195.93429294 817.30256909]\n",
      " [195.93429294 161.34571275]\n",
      " [ 37.21706625  73.89418362]]\n",
      "3\n"
     ]
    }
   ],
   "source": [
    "print(rec_index)\n",
    "print(rec_dist)\n",
    "print(g_last)"
   ]
  },
  {
   "cell_type": "code",
   "execution_count": 805,
   "metadata": {},
   "outputs": [
    {
     "name": "stdout",
     "output_type": "stream",
     "text": [
      "34 35\n",
      "34 35\n"
     ]
    }
   ],
   "source": [
    "print(rec_index[g_test][0], rec_index[g_test][1])\n",
    "print(rec_old1, rec_old2)"
   ]
  },
  {
   "cell_type": "code",
   "execution_count": 806,
   "metadata": {},
   "outputs": [
    {
     "name": "stdout",
     "output_type": "stream",
     "text": [
      "[[0, 48], [32, 48], [32, 36], [34, 35]]\n",
      "[[817.30256909 817.30256909]\n",
      " [195.93429294 817.30256909]\n",
      " [195.93429294 161.34571275]\n",
      " [ 37.21706625  73.89418362]]\n"
     ]
    }
   ],
   "source": [
    "for j in range(Generation_max+2):\n",
    "    rec_dist[j,0] = span(coord_x[rec_index[j][0]],coord_y[rec_index[j][0]],position[i,0],position[i,1])\n",
    "    rec_dist[j,1] = span(coord_x[rec_index[j][1]],coord_y[rec_index[j][1]],position[i,0],position[i,1])    \n",
    "    \n",
    "print(rec_index)\n",
    "print(rec_dist)"
   ]
  },
  {
   "cell_type": "code",
   "execution_count": null,
   "metadata": {},
   "outputs": [],
   "source": []
  },
  {
   "cell_type": "code",
   "execution_count": null,
   "metadata": {},
   "outputs": [],
   "source": []
  },
  {
   "cell_type": "code",
   "execution_count": null,
   "metadata": {},
   "outputs": [],
   "source": []
  },
  {
   "cell_type": "code",
   "execution_count": null,
   "metadata": {},
   "outputs": [],
   "source": []
  },
  {
   "cell_type": "code",
   "execution_count": null,
   "metadata": {},
   "outputs": [],
   "source": []
  }
 ],
 "metadata": {
  "kernelspec": {
   "display_name": "Python 3",
   "language": "python",
   "name": "python3"
  },
  "language_info": {
   "codemirror_mode": {
    "name": "ipython",
    "version": 3
   },
   "file_extension": ".py",
   "mimetype": "text/x-python",
   "name": "python",
   "nbconvert_exporter": "python",
   "pygments_lexer": "ipython3",
   "version": "3.7.6"
  }
 },
 "nbformat": 4,
 "nbformat_minor": 4
}
