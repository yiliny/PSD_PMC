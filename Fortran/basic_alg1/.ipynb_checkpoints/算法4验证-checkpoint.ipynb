{
 "cells": [
  {
   "cell_type": "code",
   "execution_count": 1,
   "metadata": {},
   "outputs": [],
   "source": [
    "##### Diffusion in Koch-like boundary @ YYE\n",
    "##### April 2023\n",
    "##### Generate Koch triangle with arbitraty angles\n",
    "##### Diffusion and contact PDF.\n",
    "\n",
    "import numpy as np\n",
    "import matplotlib.pyplot as plt\n",
    "import math, random\n",
    "from itertools import cycle\n",
    "import copy\n",
    "\n"
   ]
  },
  {
   "cell_type": "code",
   "execution_count": 24,
   "metadata": {},
   "outputs": [
    {
     "name": "stdout",
     "output_type": "stream",
     "text": [
      "True\n"
     ]
    }
   ],
   "source": [
    "file2 = open(\"pbbN1e6g2.txt\")\n",
    "print(file2.readable())"
   ]
  },
  {
   "cell_type": "code",
   "execution_count": 25,
   "metadata": {},
   "outputs": [],
   "source": [
    "contt = file2.read()"
   ]
  },
  {
   "cell_type": "code",
   "execution_count": 103,
   "metadata": {},
   "outputs": [],
   "source": [
    "pk3 = [           1,   2.6200000000000003E-004,\n",
    "           2,   2.8899999999999998E-004,\n",
    "           3,   4.1599999999999997E-004,\n",
    "           4,   3.5609999999999999E-003,\n",
    "           5,   4.1539999999999997E-003,\n",
    "           6,   6.5499999999999998E-004,\n",
    "           7,   4.0999999999999999E-004,\n",
    "           8,   3.5199999999999999E-004,\n",
    "           9,   3.6999999999999999E-004,\n",
    "          10,   4.6400000000000000E-004,\n",
    "          11,   7.3399999999999995E-004,\n",
    "          12,   7.3540000000000003E-003,\n",
    "          13,   1.7364999999999998E-002,\n",
    "          14,   6.3270000000000002E-003,\n",
    "          15,   7.0860000000000003E-003,\n",
    "          16,   3.3688000000000003E-002,\n",
    "          17,   3.3635999999999999E-002,\n",
    "          18,   7.0640000000000000E-003,\n",
    "          19,   6.4000000000000003E-003,\n",
    "          20,   1.7568000000000000E-002,\n",
    "          21,   7.3270000000000002E-003,\n",
    "          22,   6.9899999999999997E-004,\n",
    "          23,   4.3199999999999998E-004,\n",
    "          24,   3.7500000000000001E-004,\n",
    "          25,   3.6099999999999999E-004,\n",
    "          26,   3.8200000000000002E-004,\n",
    "          27,   5.9199999999999997E-004,\n",
    "          28,   4.1729999999999996E-003,\n",
    "          29,   3.4759999999999999E-003,\n",
    "          30,   4.2999999999999999E-004,\n",
    "          31,   3.4200000000000002E-004,\n",
    "          32,   2.8299999999999999E-004,\n",
    "          33,   2.4300000000000000E-004,\n",
    "          34,   3.0299999999999999E-004,\n",
    "          35,   4.9299999999999995E-004,\n",
    "          36,   3.6800000000000001E-003,\n",
    "          37,   4.1339999999999997E-003,\n",
    "          38,   5.9100000000000005E-004,\n",
    "          39,   4.0999999999999999E-004,\n",
    "          40,   3.6299999999999999E-004,\n",
    "          41,   3.7700000000000000E-004,\n",
    "          42,   4.6200000000000001E-004,\n",
    "          43,   7.2300000000000001E-004,\n",
    "          44,   7.1840000000000003E-003,\n",
    "          45,   1.7415000000000000E-002,\n",
    "          46,   6.2610000000000001E-003,\n",
    "          47,   7.2379999999999996E-003,\n",
    "          48,   3.3485000000000001E-002,\n",
    "          49,   3.3020000000000001E-002,\n",
    "          50,   6.9880000000000003E-003,\n",
    "          51,   6.2989999999999999E-003,\n",
    "          52,   1.7361000000000001E-002,\n",
    "          53,   7.1900000000000002E-003,\n",
    "          54,   6.8499999999999995E-004,\n",
    "          55,   4.6200000000000001E-004,\n",
    "          56,   3.3199999999999999E-004,\n",
    "          57,   3.6699999999999998E-004,\n",
    "          58,   4.1199999999999999E-004,\n",
    "          59,   6.2399999999999999E-004,\n",
    "          60,   4.1830000000000001E-003,\n",
    "          61,   3.7109999999999999E-003,\n",
    "          62,   4.3100000000000001E-004,\n",
    "          63,   2.9100000000000003E-004,\n",
    "          64,   2.1900000000000001E-004,\n",
    "          65,   2.2200000000000000E-004,\n",
    "          66,   2.9100000000000003E-004,\n",
    "          67,   4.8799999999999999E-004,\n",
    "          68,   3.6120000000000002E-003,\n",
    "          69,   4.0870000000000004E-003,\n",
    "          70,   6.0300000000000002E-004,\n",
    "          71,   4.4299999999999998E-004,\n",
    "          72,   3.4699999999999998E-004,\n",
    "          73,   3.7399999999999998E-004,\n",
    "          74,   4.2099999999999999E-004,\n",
    "          75,   7.0699999999999995E-004,\n",
    "          76,   7.2210000000000000E-003,\n",
    "          77,   1.7658000000000000E-002,\n",
    "          78,   6.3369999999999998E-003,\n",
    "          79,   7.0689999999999998E-003,\n",
    "          80,   3.3313000000000002E-002,\n",
    "          81,   3.3280999999999998E-002,\n",
    "          82,   7.0179999999999999E-003,\n",
    "          83,   6.4429999999999999E-003,\n",
    "          84,   1.7698999999999999E-002,\n",
    "          85,   7.2589999999999998E-003,\n",
    "          86,   7.2999999999999996E-004,\n",
    "          87,   4.3300000000000001E-004,\n",
    "          88,   3.4900000000000003E-004,\n",
    "          89,   3.4400000000000001E-004,\n",
    "          90,   4.0400000000000001E-004,\n",
    "          91,   6.4199999999999999E-004,\n",
    "          92,   4.1949999999999999E-003,\n",
    "          93,   3.6219999999999998E-003,\n",
    "          94,   4.9700000000000005E-004,\n",
    "          95,   2.8100000000000000E-004,\n",
    "          96,   2.2900000000000001E-004,\n",
    "          97,   2.1800000000000001E-004,\n",
    "          98,   2.9100000000000003E-004,\n",
    "          99,   4.9299999999999995E-004,\n",
    "         100,   3.6140000000000000E-003,\n",
    "         101,   4.1640000000000002E-003,\n",
    "         102,   6.6900000000000000E-004,\n",
    "         103,   4.2900000000000002E-004,\n",
    "         104,   3.8299999999999999E-004,\n",
    "         105,   3.7700000000000000E-004,\n",
    "         106,   4.0900000000000002E-004,\n",
    "         107,   6.9800000000000005E-004,\n",
    "         108,   7.1720000000000004E-003,\n",
    "         109,   1.7739000000000001E-002,\n",
    "         110,   6.2779999999999997E-003,\n",
    "         111,   6.9300000000000004E-003,\n",
    "         112,   3.3558999999999999E-002,\n",
    "         113,   3.3326000000000001E-002,\n",
    "         114,   6.9849999999999999E-003,\n",
    "         115,   6.4070000000000004E-003,\n",
    "         116,   1.7645999999999998E-002,\n",
    "         117,   7.0520000000000001E-003,\n",
    "         118,   7.0399999999999998E-004,\n",
    "         119,   4.5399999999999998E-004,\n",
    "         120,   3.7100000000000002E-004,\n",
    "         121,   3.7199999999999999E-004,\n",
    "         122,   4.0800000000000000E-004,\n",
    "         123,   6.0899999999999995E-004,\n",
    "         124,   4.2570000000000004E-003,\n",
    "         125,   3.6779999999999998E-003,\n",
    "         126,   4.4600000000000000E-004,\n",
    "         127,   2.8499999999999999E-004,\n",
    "         128,   2.5099999999999998E-004,\n",
    "         129,   2.5599999999999999E-004,\n",
    "         130,   3.1399999999999999E-004,\n",
    "         131,   4.8400000000000000E-004,\n",
    "         132,   3.5810000000000000E-003,\n",
    "         133,   4.2160000000000001E-003,\n",
    "         134,   5.6599999999999999E-004,\n",
    "         135,   4.1700000000000000E-004,\n",
    "         136,   3.5300000000000002E-004,\n",
    "         137,   3.5900000000000000E-004,\n",
    "         138,   4.2099999999999999E-004,\n",
    "         139,   7.0200000000000004E-004,\n",
    "         140,   7.1999999999999998E-003,\n",
    "         141,   1.7479999999999999E-002,\n",
    "         142,   6.4409999999999997E-003,\n",
    "         143,   7.0410000000000004E-003,\n",
    "         144,   3.3549000000000002E-002,\n",
    "         145,   3.3388000000000001E-002,\n",
    "         146,   7.1640000000000002E-003,\n",
    "         147,   6.2940000000000001E-003,\n",
    "         148,   1.7472999999999999E-002,\n",
    "         149,   7.2960000000000004E-003,\n",
    "         150,   7.5600000000000005E-004,\n",
    "         151,   4.1899999999999999E-004,\n",
    "         152,   3.5199999999999999E-004,\n",
    "         153,   3.4800000000000000E-004,\n",
    "         154,   4.2400000000000001E-004,\n",
    "         155,   6.3800000000000000E-004,\n",
    "         156,   4.1840000000000002E-003,\n",
    "         157,   3.5400000000000002E-003,\n",
    "         158,   4.7199999999999998E-004,\n",
    "         159,   2.7099999999999997E-004,\n",
    "         160,   2.2900000000000001E-004,\n",
    "         161,   2.5099999999999998E-004,\n",
    "         162,   2.7099999999999997E-004,\n",
    "         163,   4.5399999999999998E-004,\n",
    "         164,   3.6679999999999998E-003,\n",
    "         165,   4.2459999999999998E-003,\n",
    "         166,   6.0499999999999996E-004,\n",
    "         167,   3.9500000000000001E-004,\n",
    "         168,   3.6600000000000001E-004,\n",
    "         169,   3.6800000000000000E-004,\n",
    "         170,   4.2800000000000000E-004,\n",
    "         171,   7.2099999999999996E-004,\n",
    "         172,   7.1869999999999998E-003,\n",
    "         173,   1.7451999999999999E-002,\n",
    "         174,   6.4539999999999997E-003,\n",
    "         175,   7.0499999999999998E-003,\n",
    "         176,   3.3447999999999999E-002,\n",
    "         177,   3.3449000000000000E-002,\n",
    "         178,   7.0939999999999996E-003,\n",
    "         179,   6.3020000000000003E-003,\n",
    "         180,   1.7510999999999999E-002,\n",
    "         181,   7.4700000000000001E-003,\n",
    "         182,   7.2000000000000005E-004,\n",
    "         183,   4.7300000000000000E-004,\n",
    "         184,   3.8400000000000001E-004,\n",
    "         185,   3.5100000000000002E-004,\n",
    "         186,   4.2700000000000002E-004,\n",
    "         187,   6.5300000000000004E-004,\n",
    "         188,   4.2009999999999999E-003,\n",
    "         189,   3.7050000000000000E-003,\n",
    "         190,   4.4700000000000002E-004,\n",
    "         191,   3.0400000000000002E-004,\n",
    "         192,   2.5999999999999998E-004]\n",
    "\n",
    "pk2 = [           1,   4.4720000000000003E-003,\n",
    "           2,   5.3959999999999998E-003,\n",
    "           3,   8.5319999999999997E-003,\n",
    "           4,   6.4933000000000005E-002,\n",
    "           5,   6.4827999999999997E-002,\n",
    "           6,   8.5430000000000002E-003,\n",
    "           7,   5.4070000000000003E-003,\n",
    "           8,   4.4830000000000000E-003,\n",
    "           9,   4.5480000000000000E-003,\n",
    "          10,   5.4450000000000002E-003,\n",
    "          11,   8.6070000000000001E-003,\n",
    "          12,   6.4685999999999994E-002,\n",
    "          13,   6.5115999999999993E-002,\n",
    "          14,   8.7440000000000000E-003,\n",
    "          15,   5.3699999999999998E-003,\n",
    "          16,   4.4359999999999998E-003,\n",
    "          17,   4.4039999999999999E-003,\n",
    "          18,   5.5329999999999997E-003,\n",
    "          19,   8.8430000000000002E-003,\n",
    "          20,   6.4714999999999995E-002,\n",
    "          21,   6.4249000000000001E-002,\n",
    "          22,   8.4960000000000001E-003,\n",
    "          23,   5.4110000000000000E-003,\n",
    "          24,   4.4419999999999998E-003,\n",
    "          25,   4.5529999999999998E-003,\n",
    "          26,   5.3720000000000000E-003,\n",
    "          27,   8.6029999999999995E-003,\n",
    "          28,   6.4685999999999994E-002,\n",
    "          29,   6.4869999999999997E-002,\n",
    "          30,   8.5410000000000000E-003,\n",
    "          31,   5.4990000000000004E-003,\n",
    "          32,   4.4370000000000000E-003,\n",
    "          33,   4.5519999999999996E-003,\n",
    "          34,   5.4419999999999998E-003,\n",
    "          35,   8.6309999999999998E-003,\n",
    "          36,   6.4875000000000002E-002,\n",
    "          37,   6.4832000000000001E-002,\n",
    "          38,   8.5740000000000000E-003,\n",
    "          39,   5.5469999999999998E-003,\n",
    "          40,   4.6080000000000001E-003,\n",
    "          41,   4.4019999999999997E-003,\n",
    "          42,   5.3740000000000003E-003,\n",
    "          43,   8.6060000000000008E-003,\n",
    "          44,   6.4875000000000002E-002,\n",
    "          45,   6.4891000000000004E-002,\n",
    "          46,   8.5009999999999999E-003,\n",
    "          47,   5.5579999999999996E-003,\n",
    "          48,   4.5319999999999996E-003]\n",
    "\n",
    "pk1 = [           1,   8.3599000000000007E-002,\n",
    "           2,   8.3401000000000003E-002,\n",
    "           3,   8.3354999999999999E-002,\n",
    "           4,   8.3374000000000004E-002,\n",
    "           5,   8.3378999999999995E-002,\n",
    "           6,   8.3650000000000002E-002,\n",
    "           7,   8.3377000000000007E-002,\n",
    "           8,   8.3082000000000003E-002,\n",
    "           9,   8.2807000000000006E-002,\n",
    "          10,   8.3559999999999995E-002,\n",
    "          11,   8.3136000000000002E-002,\n",
    "          12,   8.3280000000000007E-002]\n",
    "\n",
    "\n",
    "pk0 = [1,  0.33381899999999998,\n",
    "           2,  0.33322499999999999,\n",
    "           3,  0.33295599999999997]"
   ]
  },
  {
   "cell_type": "code",
   "execution_count": 98,
   "metadata": {},
   "outputs": [
    {
     "data": {
      "text/plain": [
       "96"
      ]
     },
     "execution_count": 98,
     "metadata": {},
     "output_type": "execute_result"
    }
   ],
   "source": [
    "len(pk3sum)"
   ]
  },
  {
   "cell_type": "code",
   "execution_count": 108,
   "metadata": {},
   "outputs": [],
   "source": [
    "pk3sum = np.zeros(len(pk3)//4)\n",
    "pk2sum = np.zeros(len(pk2)//4)\n",
    "pk1sum = np.zeros(len(pk1)//4)"
   ]
  },
  {
   "cell_type": "code",
   "execution_count": 109,
   "metadata": {},
   "outputs": [],
   "source": [
    "for i in range(len(pk3)//4):\n",
    "    if i%2!=0:\n",
    "        u = 0.0\n",
    "        for j in range(4*i-3,4*i+5,2):\n",
    "            u += pk3[j]\n",
    "        pk3sum[i] = u\n",
    "    else:\n",
    "        u = i//2\n",
    "        pk3sum[i] = u + 1"
   ]
  },
  {
   "cell_type": "code",
   "execution_count": 110,
   "metadata": {},
   "outputs": [],
   "source": [
    "for i in range(len(pk2)//4):\n",
    "    if i%2!=0:\n",
    "        u = 0.0\n",
    "        for j in range(4*i-3,4*i+5,2):\n",
    "            u += pk2[j]\n",
    "        pk2sum[i] = u\n",
    "    else:\n",
    "        u = i//2\n",
    "        pk2sum[i] = u + 1"
   ]
  },
  {
   "cell_type": "code",
   "execution_count": 111,
   "metadata": {},
   "outputs": [],
   "source": [
    "for i in range(len(pk1)//4):\n",
    "    if i%2!=0:\n",
    "        u = 0.0\n",
    "        for j in range(4*i-3,4*i+5,2):\n",
    "            u += pk1[j]\n",
    "        pk1sum[i] = u\n",
    "    else:\n",
    "        u = i//2\n",
    "        pk1sum[i] = u + 1"
   ]
  },
  {
   "cell_type": "code",
   "execution_count": 113,
   "metadata": {},
   "outputs": [
    {
     "data": {
      "text/plain": [
       "array([1.      , 0.333729, 2.      , 0.333488, 3.      , 0.332783])"
      ]
     },
     "execution_count": 113,
     "metadata": {},
     "output_type": "execute_result"
    }
   ],
   "source": [
    "pk1sum"
   ]
  },
  {
   "cell_type": "markdown",
   "metadata": {},
   "source": [
    "Below we show that pk3sum is almost equal to pk2."
   ]
  },
  {
   "cell_type": "code",
   "execution_count": 106,
   "metadata": {},
   "outputs": [
    {
     "data": {
      "text/plain": [
       "<function matplotlib.pyplot.show(*args, **kw)>"
      ]
     },
     "execution_count": 106,
     "metadata": {},
     "output_type": "execute_result"
    },
    {
     "data": {
      "image/png": "[encoded data removed]",
      "text/plain": [
       "<Figure size 432x288 with 1 Axes>"
      ]
     },
     "metadata": {
      "needs_background": "light"
     },
     "output_type": "display_data"
    }
   ],
   "source": [
    "plt.xlabel(\"Segment No.\")\n",
    "plt.ylabel(\"Probability\")\n",
    "plt.title(\"G = 2\")\n",
    "for i in range(len(pk2)//2):\n",
    "    plt.scatter(pk2[i*2],pk2[2*i+1],c='black')\n",
    "    plt.scatter(pk3sum[i*2],pk3sum[2*i+1],c='red')\n",
    "plt.show"
   ]
  },
  {
   "cell_type": "code",
   "execution_count": 114,
   "metadata": {},
   "outputs": [
    {
     "data": {
      "text/plain": [
       "<function matplotlib.pyplot.show(*args, **kw)>"
      ]
     },
     "execution_count": 114,
     "metadata": {},
     "output_type": "execute_result"
    },
    {
     "data": {
      "image/png": "[encoded data removed]",
      "text/plain": [
       "<Figure size 432x288 with 1 Axes>"
      ]
     },
     "metadata": {
      "needs_background": "light"
     },
     "output_type": "display_data"
    }
   ],
   "source": [
    "plt.xlabel(\"Segment No.\")\n",
    "plt.ylabel(\"Probability\")\n",
    "plt.title(\"G = 1\")\n",
    "for i in range(len(pk1)//2):\n",
    "    plt.scatter(pk1[i*2],pk1[2*i+1],c='black')\n",
    "    plt.scatter(pk2sum[i*2],pk2sum[2*i+1],c='red')\n",
    "plt.show"
   ]
  },
  {
   "cell_type": "code",
   "execution_count": 115,
   "metadata": {},
   "outputs": [
    {
     "data": {
      "text/plain": [
       "<function matplotlib.pyplot.show(*args, **kw)>"
      ]
     },
     "execution_count": 115,
     "metadata": {},
     "output_type": "execute_result"
    },
    {
     "data": {
      "image/png": "[encoded data removed]",
      "text/plain": [
       "<Figure size 432x288 with 1 Axes>"
      ]
     },
     "metadata": {
      "needs_background": "light"
     },
     "output_type": "display_data"
    }
   ],
   "source": [
    "plt.xlabel(\"Segment No.\")\n",
    "plt.ylabel(\"Probability\")\n",
    "plt.title(\"G = 0\")\n",
    "for i in range(len(pk0)//2):\n",
    "    plt.scatter(pk0[i*2],pk0[2*i+1],c='black')\n",
    "    plt.scatter(pk1sum[i*2],pk1sum[2*i+1],c='red')\n",
    "plt.show"
   ]
  },
  {
   "cell_type": "code",
   "execution_count": null,
   "metadata": {},
   "outputs": [],
   "source": []
  },
  {
   "cell_type": "code",
   "execution_count": null,
   "metadata": {},
   "outputs": [],
   "source": []
  },
  {
   "cell_type": "code",
   "execution_count": null,
   "metadata": {},
   "outputs": [],
   "source": []
  },
  {
   "cell_type": "code",
   "execution_count": null,
   "metadata": {},
   "outputs": [],
   "source": []
  },
  {
   "cell_type": "code",
   "execution_count": null,
   "metadata": {},
   "outputs": [],
   "source": []
  },
  {
   "cell_type": "code",
   "execution_count": null,
   "metadata": {},
   "outputs": [],
   "source": []
  }
 ],
 "metadata": {
  "kernelspec": {
   "display_name": "Python 3",
   "language": "python",
   "name": "python3"
  },
  "language_info": {
   "codemirror_mode": {
    "name": "ipython",
    "version": 3
   },
   "file_extension": ".py",
   "mimetype": "text/x-python",
   "name": "python",
   "nbconvert_exporter": "python",
   "pygments_lexer": "ipython3",
   "version": "3.7.6"
  }
 },
 "nbformat": 4,
 "nbformat_minor": 4
}
