{
 "cells": [
  {
   "cell_type": "code",
   "execution_count": 1,
   "metadata": {
    "slideshow": {
     "slide_type": "slide"
    }
   },
   "outputs": [],
   "source": [
    "##### Koch_alpha @ YYE\n",
    "##### April 2023\n",
    "### Generate Koch triangle with arbitraty angles\n",
    "\n",
    "import numpy as np\n",
    "import matplotlib.pyplot as plt\n",
    "import math, random"
   ]
  },
  {
   "cell_type": "markdown",
   "metadata": {},
   "source": [
    "This file is only for generation of Koch-like figures, as well as the related aminations."
   ]
  },
  {
   "cell_type": "markdown",
   "metadata": {
    "slideshow": {
     "slide_type": "subslide"
    }
   },
   "source": [
    "Here, we'd like to modifiy the angle value $\\alpha$, not necessarily equal to $\\pi/3$. We write these equations:\n",
    "$$ d^2 = \\ell^2 + \\ell^2 - 2\\ell^2\\cos\\alpha $$\n",
    "$$ d = \\ell \\sqrt{2(1-\\cos\\alpha)} $$\n",
    "$$ d+2\\ell = L $$\n",
    "and solving:\n",
    "$$ \\frac{L}{\\ell} = \\sqrt{2(1-\\cos\\alpha)} + 2 $$\n",
    "$$ d = \\frac{\\sqrt{2(1-\\cos\\alpha)}}{\\sqrt{2(1-\\cos\\alpha)} + 2} L $$\n",
    "Note that $L$ refers to ``l``, $\\ell$ refers to ``segm``, and $d$ refers to ``dist``."
   ]
  },
  {
   "cell_type": "code",
   "execution_count": 2,
   "metadata": {
    "slideshow": {
     "slide_type": "slide"
    }
   },
   "outputs": [],
   "source": [
    "def koch_line(start, end, alpha, direction):\n",
    "    \"\"\"\n",
    "    Segments a line to Koch line, creating fractals.\n",
    "    :param tuple start:  (x, y) coordinates of the starting point\n",
    "    :param tuple end: (x, y) coordinates of the end point\n",
    "    :alpha: angle for Koch triangle (unit: rad)\n",
    "    :direction: 凹凸 convex or not?\n",
    "    ~returns tuple: tuple of three points between the segmentation\n",
    "    \"\"\"\n",
    "    \n",
    "    # coordinates of the start\n",
    "    x1, y1 = start[0], start[1]\n",
    "    # coordinates of the end\n",
    "    x2, y2 = end[0], end[1]\n",
    "    \n",
    "    # the length of the line\n",
    "    deltax, deltay = x2 - x1, y2 - y1\n",
    "    l = np.sqrt((deltax)**2 + (deltay)**2)\n",
    "    coef = np.sqrt( 2 * (1 - np.cos(alpha)) ) + 2\n",
    "    segm = l / (coef)\n",
    "    #dist = segm * coef\n",
    "    beta = (np.pi - alpha)/2\n",
    "    if x1==x2:\n",
    "        if y1<y2:\n",
    "            theta = +np.pi / 2\n",
    "        if y1>y2:\n",
    "            theta = -np.pi / 2\n",
    "    else:\n",
    "        theta = np.arctan((deltay)/(deltax))\n",
    "    if x1>x2:\n",
    "        theta += np.pi\n",
    "    \n",
    "    changex, changey = (deltax)/(coef), (deltay)/(coef)\n",
    "    # second point: one third in each direction from the first point\n",
    "    b = (x1+changex, y1+changey)\n",
    "    # third point: rotation for multiple of 60 degrees\n",
    "    degree = theta + beta * direction\n",
    "    c = (b[0] + segm * np.cos(degree), b[1] + segm * np.sin(degree))\n",
    "    # fourth point: two thirds in each direction from the first point\n",
    "    d = (x2-changex, y2-changey)\n",
    "    \n",
    "    return [b, c, d]"
   ]
  },
  {
   "cell_type": "code",
   "execution_count": 18,
   "metadata": {
    "slideshow": {
     "slide_type": "subslide"
    }
   },
   "outputs": [
    {
     "name": "stdout",
     "output_type": "stream",
     "text": [
      "CPU times: user 303 ms, sys: 5.44 ms, total: 309 ms\n",
      "Wall time: 308 ms\n"
     ]
    },
    {
     "data": {
      "image/png": "[encoded data removed]",
      "text/plain": [
       "<Figure size 720x720 with 1 Axes>"
      ]
     },
     "metadata": {
      "needs_background": "light"
     },
     "output_type": "display_data"
    }
   ],
   "source": [
    "%%time\n",
    "## General initial coordinates\n",
    "initial_shape = 3 # 3 = triangle, 4 = square, 5 = star, etc.\n",
    "edge_length = 25 # Initial edge length\n",
    "angle_ini = 2.0 * np.pi / initial_shape\n",
    "coordinate = []\n",
    "new_x, new_y = 0, 0\n",
    "\n",
    "for i in range(initial_shape):\n",
    "    coordinate.append((new_x,new_y))\n",
    "    new_x += edge_length * np.cos(i * angle_ini)\n",
    "    new_y += edge_length * np.sin(i * angle_ini)\n",
    "    \n",
    "## To form a circle.\n",
    "coordinate.append(coordinate[0])    \n",
    "#print(coordinate)\n",
    "\n",
    "\n",
    "\n",
    "\n",
    "\n",
    "max_degree = 2 ## Define the recursion order\n",
    "alpha_ratio = 3\n",
    "degre = np.pi/ alpha_ratio ## Define the fractal angle\n",
    "direction = - 1  ## Define 凹(concave +1) 凸(convex -1)\n",
    "for i in range(max_degree): ## Recursion Order\n",
    "    num_edge = len(coordinate)\n",
    "    for j in range(num_edge-1): ## How many times to insert new points?\n",
    "        num_point = j * 4\n",
    "        coordinate = coordinate[:num_point+1] + koch_line(coordinate[num_point],coordinate[num_point+1],degre,direction) + coordinate[num_point+1:]\n",
    "        \n",
    "\n",
    "\n",
    "     \n",
    "    \n",
    "# Extract all coordinates\n",
    "pos_x = []\n",
    "pos_y = []\n",
    "for i in range(len(coordinate)):\n",
    "    pos_x.append(coordinate[i][0])\n",
    "    pos_y.append(coordinate[i][1])\n",
    "\n",
    "# fill the polygons\n",
    "plt.figure(figsize=(10, 10))\n",
    "#plt.figure(dpi=80)\n",
    "plt.fill(pos_x, pos_y, edgecolor='black', lw=0.5, alpha = 0.3)\n",
    "plt.axis('off')\n",
    "plt.axis('scaled')\n",
    "#plt.scatter(coordinate[0][0],coordinate[0][0],color='red')\n",
    "plt.plot([coordinate[0][0],coordinate[1][0]],[coordinate[0][1],coordinate[1][1]],'-',c='red',alpha=1,linewidth=8)\n",
    "plt.plot([coordinate[1][0],coordinate[2][0]],[coordinate[1][1],coordinate[2][1]],'-',c='green',alpha=1,linewidth=8)\n",
    "plt.plot([coordinate[2][0],coordinate[3][0]],[coordinate[2][1],coordinate[3][1]],'-',c='black',alpha=1,linewidth=8)\n",
    "plt.show\n",
    "\n",
    "## chr(48~57) = 0~9 // + 48\n",
    "if direction == +1:\n",
    "    chr_direction = chr(43)\n",
    "if direction == -1:\n",
    "    chr_direction = chr(45)\n",
    "## Name as: initial polygon + alpha angle + concave/convex + recursion degree. \n",
    "filename = 'aaKoch_'+chr(initial_shape+48)+'_pi;'+chr(alpha_ratio+48)+chr_direction+chr(max_degree+48)\n",
    "plt.savefig(filename, dpi=200, bbox_inches='tight')"
   ]
  },
  {
   "cell_type": "markdown",
   "metadata": {
    "slideshow": {
     "slide_type": "slide"
    }
   },
   "source": [
    "Then we try do generate gif."
   ]
  },
  {
   "cell_type": "code",
   "execution_count": null,
   "metadata": {},
   "outputs": [],
   "source": []
  },
  {
   "cell_type": "code",
   "execution_count": null,
   "metadata": {},
   "outputs": [],
   "source": []
  },
  {
   "cell_type": "code",
   "execution_count": null,
   "metadata": {},
   "outputs": [],
   "source": []
  }
 ],
 "metadata": {
  "celltoolbar": "Aucun(e)",
  "kernelspec": {
   "display_name": "Python 3",
   "language": "python",
   "name": "python3"
  },
  "language_info": {
   "codemirror_mode": {
    "name": "ipython",
    "version": 3
   },
   "file_extension": ".py",
   "mimetype": "text/x-python",
   "name": "python",
   "nbconvert_exporter": "python",
   "pygments_lexer": "ipython3",
   "version": "3.7.6"
  }
 },
 "nbformat": 4,
 "nbformat_minor": 4
}
